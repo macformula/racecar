{
 "cells": [
  {
   "cell_type": "markdown",
   "metadata": {},
   "source": [
    "# CANAL Parser"
   ]
  },
  {
   "cell_type": "markdown",
   "metadata": {},
   "source": [
    "## Imports"
   ]
  },
  {
   "cell_type": "code",
   "execution_count": 23,
   "metadata": {},
   "outputs": [],
   "source": [
    "import numpy as np\n",
    "import logging, cantools, os, math, re, datetime\n",
    "from jinja2 import Environment\n",
    "from canSupportLib import little_endian_mask, little_endian_shift_amounts, big_endian_mask, big_endian_shift_amounts, parse_dbc_files, filter_messages_by_node, get_signal_types"
   ]
  },
  {
   "cell_type": "markdown",
   "metadata": {},
   "source": []
  },
  {
   "cell_type": "code",
   "execution_count": null,
   "metadata": {},
   "outputs": [],
   "source": []
  },
  {
   "cell_type": "markdown",
   "metadata": {},
   "source": [
    "## Config"
   ]
  },
  {
   "cell_type": "markdown",
   "metadata": {},
   "source": [
    "### Variables"
   ]
  },
  {
   "cell_type": "code",
   "execution_count": 24,
   "metadata": {},
   "outputs": [],
   "source": [
    "dbc_files = [\"../../firmware/dbcs/DEMO_CAN.dbc\"]\n",
    "our_node = \"FOO\""
   ]
  },
  {
   "cell_type": "markdown",
   "metadata": {},
   "source": [
    "### Logger"
   ]
  },
  {
   "cell_type": "code",
   "execution_count": 25,
   "metadata": {},
   "outputs": [],
   "source": []
  },
  {
   "cell_type": "markdown",
   "metadata": {},
   "source": [
    "## Parse DBC Files"
   ]
  },
  {
   "cell_type": "code",
   "execution_count": 26,
   "metadata": {},
   "outputs": [
    {
     "name": "stderr",
     "output_type": "stream",
     "text": [
      "2024-04-12 10:06:43,226 - root - INFO - adding dbc files (['../../firmware/dbcs/DEMO_CAN.dbc'])\n",
      "2024-04-12 10:06:43,228 - root - INFO - successfully added dbc (../../firmware/dbcs/DEMO_CAN.dbc)\n"
     ]
    }
   ],
   "source": [
    "can_db = parse_dbc_files(dbc_files)"
   ]
  },
  {
   "cell_type": "markdown",
   "metadata": {},
   "source": [
    "## Get Message Types"
   ]
  },
  {
   "cell_type": "code",
   "execution_count": 27,
   "metadata": {},
   "outputs": [],
   "source": [
    "signal_types = get_signal_types(can_db)\n",
    "temp_signal_types = get_signal_types(can_db, allow_floating_point=False)"
   ]
  },
  {
   "cell_type": "markdown",
   "metadata": {},
   "source": [
    "## Get Messages for Given Node"
   ]
  },
  {
   "cell_type": "code",
   "execution_count": 28,
   "metadata": {},
   "outputs": [
    {
     "name": "stderr",
     "output_type": "stream",
     "text": [
      "2024-04-12 10:06:43,240 - root - INFO - filtered messages by node (FOO) num msgs: rx = 1, tx = 1\n"
     ]
    }
   ],
   "source": [
    "rx_msgs, tx_msgs = filter_messages_by_node(can_db.messages, our_node)"
   ]
  },
  {
   "cell_type": "markdown",
   "metadata": {},
   "source": [
    "## "
   ]
  },
  {
   "cell_type": "code",
   "execution_count": 29,
   "metadata": {},
   "outputs": [
    {
     "name": "stdout",
     "output_type": "stream",
     "text": [
      "big\n",
      "big\n",
      "little\n",
      "shift amounts: [-4, 4, 12, 20, 28, 36, 44, 52]\n",
      "little\n",
      "shift amounts: [-14, -6, 2, 10, 18, 26, 34, 42]\n",
      "little\n",
      "shift amounts: [-24, -16, -8, 0, 8, 16, 24, 32]\n",
      "little\n",
      "shift amounts: [-34, -26, -18, -10, -2, 6, 14, 22]\n",
      "little\n",
      "shift amounts: [-44, -36, -28, -20, -12, -4, 4, 12]\n",
      "little\n",
      "shift amounts: [-54, -46, -38, -30, -22, -14, -6, 2]\n"
     ]
    }
   ],
   "source": [
    "def get_masks_shifts(msgs):\n",
    "    masks_shifts_dict = {}\n",
    "\n",
    "    for msg in msgs:\n",
    "        masks_shifts_dict[msg.name] = {}\n",
    "        for sig in msg.signals:\n",
    "            if sig.byte_order == 'little_endian':\n",
    "                print(\"little\")\n",
    "                mask, num_trailing_zeros = little_endian_mask(sig.length, sig.start)\n",
    "                shift_amounts = little_endian_shift_amounts(num_trailing_zeros)\n",
    "            elif sig.byte_order == 'big_endian':\n",
    "                print(\"big\")\n",
    "                mask, num_trailing_zeros = big_endian_mask(sig.length, sig.start)\n",
    "                shift_amounts = big_endian_shift_amounts(num_trailing_zeros)\n",
    "            else:\n",
    "                print(\"ERROR: invalid byte order\")\n",
    "                exit(1)\n",
    "            masks_shifts_dict[msg.name][sig.name] = ([int(byte) for byte in mask], shift_amounts)\n",
    "    \n",
    "    return masks_shifts_dict\n",
    "        \n",
    "        \n",
    "unpack_info = get_masks_shifts(rx_msgs)\n",
    "pack_info = get_masks_shifts(tx_msgs)"
   ]
  },
  {
   "cell_type": "code",
   "execution_count": 30,
   "metadata": {},
   "outputs": [],
   "source": [
    "# out = \"\"\n",
    "\n",
    "# for msg in rx_msgs:\n",
    "#     for sig in msg.signals:\n",
    "#         mask, shifts = unpacking_info[msg.name][sig.name]\n",
    "#         for i in range(len(mask)):\n",
    "#             if mask[i] == 0:\n",
    "#                 continue\n",
    "#             if shifts[i] < 0:"
   ]
  },
  {
   "cell_type": "code",
   "execution_count": 31,
   "metadata": {},
   "outputs": [],
   "source": [
    "def camel_to_snake(text):\n",
    "  '''\n",
    "  Converts UpperCamelCase to snake_case.\n",
    "  '''\n",
    "  \n",
    "  s1 = re.sub('(.)([A-Z][a-z]+)', r'\\1_\\2', text)\n",
    "  \n",
    "  return re.sub('([a-z0-9])([A-Z])', r'\\1_\\2', s1).lower()\n",
    "\n",
    "def decimal_to_hex(decimal_value):\n",
    "  '''\n",
    "  Converts a non-negative decimal integer to a lowercase hexadecimal string.\n",
    "\n",
    "  Args:\n",
    "      decimal_value: The non-negative decimal integer to convert.\n",
    "\n",
    "  Returns:\n",
    "      The hexadecimal representation of the decimal value as a lowercase string.\n",
    "\n",
    "  Raises:\n",
    "      TypeError: If the input is not an integer.\n",
    "      ValueError: If the input is negative.\n",
    "  '''\n",
    "\n",
    "  if not isinstance(decimal_value, int):\n",
    "    raise TypeError(\"Input must be an integer\")\n",
    "  if decimal_value < 0:\n",
    "    raise ValueError(\"Input must be a non-negative integer\")\n",
    "\n",
    "  hex_digits = \"0123456789ABCDEF\"\n",
    "  hex_string = \"\"\n",
    "  while decimal_value > 0:\n",
    "    remainder = decimal_value % 16\n",
    "    hex_string = hex_digits[remainder] + hex_string\n",
    "    decimal_value //= 16\n",
    "    \n",
    "  return \"0x\" + hex_string.lower()"
   ]
  },
  {
   "cell_type": "code",
   "execution_count": 36,
   "metadata": {},
   "outputs": [
    {
     "name": "stdout",
     "output_type": "stream",
     "text": [
      "Rendered code written to 'can_messages.h'\n",
      "Rendered code written to 'msg_registry.h'\n"
     ]
    }
   ],
   "source": [
    "# Read the template string from a file\n",
    "with open('canal_messages.jinja2', 'r') as file:\n",
    "    canal_messages_template = file.read()\n",
    "    \n",
    "with open('canal_msg_registry.jinja2', 'r') as file:\n",
    "    message_registry_template = file.read()\n",
    "\n",
    "# Create the environment with trim_blocks and lstrip_blocks settings\n",
    "env = Environment(trim_blocks=True, lstrip_blocks=True)\n",
    "\n",
    "# Register the camel_to_snake filter (assuming it's defined elsewhere)\n",
    "env.filters['camel_to_snake'] = camel_to_snake\n",
    "env.filters['decimal_to_hex'] = decimal_to_hex\n",
    "\n",
    "# Load the template from the string content\n",
    "msgs_template = env.from_string(canal_messages_template)\n",
    "registry_template = env.from_string(message_registry_template)\n",
    "\n",
    "# Define your context dictionary\n",
    "context = {\n",
    "    'date': datetime.date.today().strftime(\"%Y-%m-%d\"),\n",
    "    'rx_msgs': rx_msgs,\n",
    "    'tx_msgs': tx_msgs,\n",
    "    'signal_types': signal_types,\n",
    "    'temp_signal_types': temp_signal_types,\n",
    "    'unpack_info': unpack_info,\n",
    "    'pack_info': pack_info,\n",
    "    'bus_name': \"Veh\"\n",
    "}\n",
    "\n",
    "# Render the template with the context\n",
    "rendered_code = msgs_template.render(**context)\n",
    "\n",
    "# Write the rendered code to a file\n",
    "with open('../../firmware/projects/DemoCan/generated/can_messages.h', 'w') as output_file:\n",
    "    output_file.write(rendered_code)\n",
    "\n",
    "print(f\"Rendered code written to 'can_messages.h'\")\n",
    "\n",
    "rendered_code = registry_template.render(**context)\n",
    "\n",
    "# Write the rendered code to a file\n",
    "with open('../../firmware/projects/DemoCan/generated/msg_registry.h', 'w') as output_file:\n",
    "    output_file.write(rendered_code)\n",
    "\n",
    "print(f\"Rendered code written to 'msg_registry.h'\")"
   ]
  },
  {
   "cell_type": "code",
   "execution_count": null,
   "metadata": {},
   "outputs": [],
   "source": [
    "def generate_from_jinja2_template(template_path: str, output_path: str, context_dict: dict):\n",
    "    # Read the template string from a file\n",
    "    with open(template_path, 'r') as file:\n",
    "        template_str = file.read()\n",
    "\n",
    "    # Create the environment with trim_blocks and lstrip_blocks settings\n",
    "    env = Environment(trim_blocks=True, lstrip_blocks=True)\n",
    "\n",
    "    # Register the camel_to_snake filter (assuming it's defined elsewhere)\n",
    "    env.filters['camel_to_snake'] = camel_to_snake\n",
    "    env.filters['decimal_to_hex'] = decimal_to_hex\n",
    "\n",
    "    # Load the template from the string content\n",
    "    template = env.from_string(template_str)\n",
    "    \n",
    "    # Render the template with the context\n",
    "    rendered_code = template.render(**context_dict)\n",
    "\n",
    "    # Write the rendered code to a file\n",
    "    with open(output_path, 'w') as output_file:\n",
    "        output_file.write(rendered_code)\n",
    "\n",
    "    print(f\"Rendered code written to '{output_path}'\")"
   ]
  }
 ],
 "metadata": {
  "kernelspec": {
   "display_name": "Python 3",
   "language": "python",
   "name": "python3"
  },
  "language_info": {
   "codemirror_mode": {
    "name": "ipython",
    "version": 3
   },
   "file_extension": ".py",
   "mimetype": "text/x-python",
   "name": "python",
   "nbconvert_exporter": "python",
   "pygments_lexer": "ipython3",
   "version": "3.9.6"
  }
 },
 "nbformat": 4,
 "nbformat_minor": 2
}
